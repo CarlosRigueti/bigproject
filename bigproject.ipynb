{
 "cells": [
  {
   "cell_type": "code",
   "execution_count": null,
   "metadata": {
    "vscode": {
     "languageId": "plaintext"
    }
   },
   "outputs": [],
   "source": [
    "# Developed by: Carlos Rigueti\n",
    "\n",
    "# Importing the 'pandas' library for data manipulation and analysis.\n",
    "import pandas as pd\n",
    "# Importing 'matplotlib.pyplot' for creating plots and visualizations.\n",
    "import matplotlib.pyplot as plt"
   ]
  }
 ],
 "metadata": {
  "language_info": {
   "name": "python"
  }
 },
 "nbformat": 4,
 "nbformat_minor": 2
}
